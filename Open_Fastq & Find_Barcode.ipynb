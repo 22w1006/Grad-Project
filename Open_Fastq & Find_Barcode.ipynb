{
 "cells": [
  {
   "cell_type": "code",
   "execution_count": 1,
   "id": "d07e6326",
   "metadata": {},
   "outputs": [],
   "source": [
    "import scanpy as sc\n",
    "import pandas as pd"
   ]
  },
  {
   "cell_type": "code",
   "execution_count": 26,
   "id": "cfeed19e",
   "metadata": {
    "scrolled": true
   },
   "outputs": [
    {
     "name": "stdout",
     "output_type": "stream",
     "text": [
      "@A00358:305:HFVVKDSXY:1:1101:21793:1000 1:N:0:AATAATGG\n",
      "GNTCAGTTCACTTGTTTGCCTCAGCCTAGACTGATCAATATGGAGAGAGATAACACTCGCAAAATCAAAAAAACACTTCCAACATGGAGTAAACATTTCTTACCATCTAAACATAAGAAAAGTAAGACCACTCTGCATCAACAAAAAATA\n",
      "+\n",
      "F#FFFFFFFFFFFF:FFFFFF:FFFFFF,F,,,,F:,,,,,,,FF,,F,,,,,,,:,,,,,,,,,,:,,F,,:,,,,,,,F,,F,,,F,,,,F,,,,,,,,,,,F,,,:,F,,,:,,,,,,,,F,,,,,,,,,,,,:,,F,,,F,,,,,,\n",
      "@A00358:305:HFVVKDSXY:1:1101:22191:1000 1:N:0:AATAATGG\n",
      "ANTTCTGAGACTTCCACTACTCCCACCCGGTCGGTTTTACTGAGAGAGAGTCTAAGTTTTCTGGGACAGGCCCCTGACCCTGACAGTCCCACTGTACGACTCTCTTCCCGAGAGTGCTAGCGTCTCGGAGTAGCTGGAACTGACCATTCT\n",
      "+\n",
      "F#FFFFFFFFFFFFFFFFFFFFFFFFFF,,:,,,,:F,:,::F,,FF,,,,:,,,,,,,,,,,,,F,,,,,,,,:,,:,,,,:,,,F,,,,,,,,:,,:,,,,,,,,,,,,,,,,,,,,,,,,,,,,,,,,,,,,,,,F,,,,,,,,,,,\n",
      "@A00358:305:HFVVKDSXY:1:1101:23366:1000 1:N:0:AATAATGG\n",
      "TNGGGACGTCGTCATATTTGTTACAGCATATAATGATCTGCAGCATCCATAAACAACTTACAAACTTACAAACTGAGAGTCACTCATTCTCTAGATCCTTCTCATAAACACGCAGACAACAGCCAACTCTCTTCCTCTGTAACAAAAATG\n",
      "+\n",
      "F#FFFFFFFFFFFFFFFFFFFFFFFFFFF,F,F,,,,F,,:,,,FF,,,,,,:,,,,,,,,,F,,,,,,,,F,,,F,,,,,,,,,:,,,,,,:,F,,,,,,,,F,,,,,F,,,,,,,:,,F,,,F:,,,,,,,,,,,,,,,,,:,,,,,,\n",
      "@A00358:305:HFVVKDSXY:1:1101:24108:1000 1:N:0:AATAATGG\n",
      "TNGGATACACCCTAGGATTCCATATATAGCCGCCCCCCCCGATCACAAACACAAACCCAAAAAAAAAAAAAAAAAAAAAAAAAAAAAAAAAAAAAAAAAAAAAAAAAAAAAAAAAAAAAAAAAAAAAAAAAAAAAAAAAAAAAAAAAAAA\n",
      "+\n",
      "F#FF,:FF,FFFFFFFFF:FFFF:FFFFF:,,F:,:,,FF,,:::FF:F:,FF,,,,,FFF:,F::,F:FF::,:,:F,::,::::::,:F:,:::F,,,F,,:,F:,,:F,:,FFFFFF::F,::,,::::::,,,:,,F,F,FFFF::\n",
      "@A00358:305:HFVVKDSXY:1:1101:24686:1000 1:N:0:AATAATGA\n",
      "TNTAGTCCACAAATGATGACCGCGGGCGTGGGGCCCGGCCCTACTTCGAGACTGACCCTACAGACGCTGAATCAGAGTCACAATCGTTCTATCTCTCCCCCTCTCGAGCTATATCTCAGAAGAAAGACTATCTCAAAGATCTCTGCTAAC\n",
      "+\n",
      "F#FFFFFFFFFFFFFFFFFFFFFFFFFF,,,,,,:,,,:,F:,F,,,,F,,,,,:,,,,,,,,,,,,,,,,,,,,,,,,,,,:,,,,,:,,,,,,,,,,,,,,,,,F,,,,,,,,,,,,,,,,,,,,,,:,,,,,,,,,,,,,,,,,:,,\n",
      "@A00358:305:HFVVKDSXY:1:1101:25608:1000 1:N:0:AATAATGG\n",
      "ANTTTCCAGAGAGGGCGATATACGGGGAGGTGCGCGACGAGGACTGTCAGCGACATCATCTGGTCAGTCACTCTCTCTCTCTCTGTATCAGTCAAGTCTCAACTTACGACACCTAGGTCTTCGCTCTCTCTCTGTCTCTATTGAAGAGTC\n",
      "+\n",
      "F#FFFFFFFFFFFFFFFFFFFFFFFFFF,F,F,F,,,:FF,,F,,,:,:,,,,,F,,,,,,,,,,F,,,:,,,:,,,,,,,,,,,,,,,F,,:,,,,,,,,:,,,,,,,,,,,,,,,,,,,,,,,,,,,,,,,,,,,,,,,,,,,,,,,,\n",
      "@A00358:305:HFVVKDSXY:1:1101:25843:1000 1:N:0:AATAATGG\n",
      "CNTTCGGTCTCCTGTGGGGTGGCTACCAAACAAAACCAGCACGAGTCAGACACTCCAGTCAGTCCCACTACACAGTCCACTACACTGTGCCAGAGACTGCTAGTCTCCTCGATATTACTGCGGACTGCCAGTATCTCTCTCTCCACTGAA\n",
      "+\n",
      "F#,FFFFFFFFFFFF:FFFFFFFFFFFF,,,,,,,::F,:,,,F,,FF,F,,,,,,,,,,:,,,,,F,:,,:,,,,,,F,,,,,,,,,,,,:,,,,,,,,,:,,,,,,,,,:,,,,,,,,,,,,,,,,,,,,,,,,,,,,,,,,,,,,,,\n",
      "@A00358:305:HFVVKDSXY:1:1101:26892:1000 1:N:0:AATAATGG\n",
      "TNGGATTCACGCGCATACCTTCTACTCGCGCTCATTCAATACTAGACAGATACAAACCCAAATAAAAAAAAAACAAACAAAAAAAACAAAAAAAAAAACAAACAAAAAAACAAACAAAAAAAAAAACACAAAAAAAAAATAAAAAAAAAA\n",
      "+\n",
      "F#FFFFFFFFFFFFFFFFFFFFFFFFF::,FF,,:,F::,F,,::::,,F,,,,,F,,,,F,,,,,,,,:,,,,FF,,F,:,,F,:,F,,,,F,,,,,,,,F,,,,,,,:,:,,,F,,,,,,,:,F,F,,,,:,,,,F,,,F:,,,,,F,\n",
      "@A00358:305:HFVVKDSXY:1:1101:27832:1000 1:N:0:AATAATGG\n",
      "CNTAAGCTCCACCCTACACATTCGTAGAGAGAATAGCTATAGCAGAGAGACACTCCAAGAACTACTCCAAAATCTCGACCTAACCCGATTCCTCAGCTCACAGTCAAAAAGCTGCATAAAAGCAGTCATATCCACTGTGAACTCAAAAAT\n",
      "+\n",
      "F#FFFFFFFFFFFFFFFFFFFFFF:FFF,,,,,,,,F,,,,,,,,F,,,F,,F,,,,,,:,,,,,,,,F,,,,,,,,F,,,,,,,,,:,,,,,,,,,,,,,F,,,,F,,,,,:,,F,,,,,,,,,,,F,,,,,F,,,,,:,,,,,,,,,,\n",
      "@A00358:305:HFVVKDSXY:1:1101:28266:1000 1:N:0:AATAATGG\n",
      "TNCAGAAAGGTTATAGAGATGCCTATTTTTTGTCCATCTGCCTCTGACTGAGCAACAACAAACAGACAGAAACTGACTAAGGCTATACTCCTGACGACAGCTCAGAACAATGACTAAAACACATAGCAGCTATCAAGCGAAAATAAAAAC\n",
      "+\n",
      "F#FFFFFFFFFFFFFFFFFFFFFFFFFFF,::,,::,,,,,,:F,,:,,,,,,,:,:F,,,,,,,,,,,,,,,,,,,,:,,,,,,,:,,,,,,,,,:,:,,,,,,:,,F,,,,,,::,,,,,,,:,,F,,,,,,,:,,,,,,,,:,,,,,\n",
      "@A00358:305:HFVVKDSXY:1:1101:28393:1000 1:N:0:AATAATGG\n",
      "ANCGGCGGTCTCAGGCGGCAACAAGTGCGTCTTATCCTCTGAGAGAGAGAGTCTCATGAGACGAAGTCTAGCTCTCTCTCTCAGTCTCGAGAGCAGAGCTGAGATCTAGTCTCAGAGCTACCTCCTCCTCGCAGCTTCTAGAGAGTCTCC\n",
      "+\n",
      "F#FFFFFFFFFFFFFFFFFFFFFFFF:F,,:,,,,FF:,,:,F:FF:F::,,,,F,,,,,,,,FF,,,:,,,,,,,,,,,,,,,,,,,,,,,,,F,,,,,,,,,,,,,,,,,,F,,,,,,,,,,,,:,,,,,:,,,,,,,,,,,,,,,,,\n",
      "@A00358:305:HFVVKDSXY:1:1101:28483:1000 1:N:0:AATAATGG\n",
      "TNTGATCCATCGGCCAACCTTCTTCATATATAATTTCTTGTAGATACTGTCAAGACCCTCATCAAGAGATCGAGTCATACAGTCCTAGTCTATCCACATCTAGACACAGCCAGTCTCAGTCTGAGGCTTAGAATCGCTATTGATCTATGG\n",
      "+\n",
      "F#FFFFFFFFFFFFFFFFFFFFFFFFFFF,:::FF,::,,,,FFF,,,,,,F,,:F:,,,:,:,,,F,F,,,F:,,:,,:,,,,,,,,,,,,,,,,:F,,,F,F,F,,,,,F,,:,,F,,,,,,,,,,,,,FF,,,,,,,,,:,,,,,,,\n",
      "@A00358:305:HFVVKDSXY:1:1101:29948:1000 1:N:0:AATAATGG\n",
      "CNAACCCTCGATTGACTCAGTTAATCATGCTCGCCTACTCGAACTCTCTGAGACCCAAGTCACACAGTCAGAACAATGTTGTCCATATAGTCCTACTCAGTGAGAATCATTATGAAAGCTAGTCAGTCACTGACGCATCCTACAACTGCA\n",
      "+\n",
      "F#FFFFFFFFFFFFFFFFFFFFFFFFFF,,,:,,:F,,F,,,,:FFF,:,:,,,,,,,,,,,,,,,,,,:,,,,,:,,,,,,,,:,F,,,,,,,,,,,,,,,F,,,,,,,,,,,,,,,,,,,,,,,,,,,,,F,,,,,,,,:,,,,,,,:\n",
      "@A00358:305:HFVVKDSXY:1:1101:30237:1000 1:N:0:AATAATGG\n",
      "ANCACGAAGTATGATGCTCATTGAGGCTGATCCGGTTCTCCTAGTCTCTCACAGAAGAAAAACACACAGAAAAATCAACACTACATAGACATCAACACAGAGAGAGACACTCTCTAAAAAACAGACTCACTATCTCTAAGAAATAAAATA\n",
      "+\n",
      "F#FFFFFFFFFFFFF:FFFFFF:FF:FF,,,::F,,F,:FF,F,,::,,,,:,,F:,,,,,,,:,,,,,F,,F,,,:,,,,,,,,,,,,,,,,,,,F,,,F,:,:,F,,,:,,,,,,,,,,,F,F,,,,,,,,,,,,,,,,,,,,,,,,:\n",
      "@A00358:305:HFVVKDSXY:1:1101:30725:1000 1:N:0:AATAATGG\n",
      "GNGAGATAGCGACATGTTTGGTCCTGTGGACCGGCGTGTGCTGCTACCAACGACAAAACAAATAAAAATAAACCATATCCAGAAACAAGAATCAATCCCTACTAGAAAGATGCCTAAAAAATGAACCATAAAATCTAACAAAAAAAAAAC\n",
      "+\n",
      "F#FFFFFFFFFFFFFFFFFFFFFFFFFFF,F,,,,:,,,,F,,F,,,,,,,,,,,,,,,F:,,,,,F,,,,:,:F,,,,,:,,,F,,,,,F,,F,,,,,,F,,:,,,,,,,,,,,,F,,,,,,,:,,,,,F,,,,,,,,:,,,,F,,,,,\n",
      "@A00358:305:HFVVKDSXY:1:1101:30743:1000 1:N:0:AATAATGG\n",
      "TNATATCTCGTACACATGCTTTACACAAGTTAATTAGCGTCAGTCAGAGTATAGAATCTGGAGAGTCACCTTCTAGCGCATTGAGCAAGCGTTCCAGACAGTAGAGTGGACACAGACTGGTGCCTGCTATCGTGTGCTGAGAGTGTTTAC\n",
      "+\n",
      "F#FFFFFFFFFFFFFFFFFFFFFFFFFF,,,,,,,,,,:,,::F:,:,,,,,,,,,,,:,,F,:,,,:,,,,,F,,,,,,,,,,,,,,,,,,,,,,,:,,,:,,,,,,,,:,,,,F,,,,,,,,:,:,,,,,,,,,,,,,,F,,,,,,F,\n",
      "@A00358:305:HFVVKDSXY:1:1101:30870:1000 1:N:0:AATAATGG\n",
      "TNCTAATAGTACGAGCAACTGTTACGTCTATTCTATATATACTATCTATCTCGTAGATTTTCAGGAGTTCACTCTGTCTCTCAGAGCGCACTGCAGGCTCTCTCTCCACGGCTCTCCAGCGTCTTGCAGTCTTTCTCCTCTGTCACCAAT\n",
      "+\n",
      "F#FFFFFFFFFFFFFFFFFFFFFFFFFF,::,,F,,,,FF,,:,,:,,,::F,,,,,,,,,,F,,,,,,,F,,,,,:,:::,F,F,,,,,,,,,:,,:,,,,,,,,,:,,::F:,,,,,,,,:,:,,,,,,,,,,,,,,F,,,,,,,,,,\n",
      "@A00358:305:HFVVKDSXY:1:1101:31069:1000 1:N:0:AATAATGG\n",
      "CNTCTCCTCCTCTCGACGTATGCTGTCTGGTAGATTTGTAGCTTACTCTCTCGAACATCAAAGATTCAAAAATCTCTCTAGTCAGCAGACTAAAAATCTCTGTCTCACTATCCCTATAATACGAGATATCAATCTCACTAAAAGAAACAT\n",
      "+\n",
      "F#FFFFFFFFFFFFFFFFFFFFFFFFFF,F:,,,:,,,F,:,,,F,F,,,,,,,,,,,,F,,,:,,,F,,,,,:,,,,,F,,,,,,,,,,,,F,,F,,,,,,,,,,:,,:,,,,,,,,F,,,,:,:,,,,F,,,,,,,,F,,:,:,,,,,\n",
      "@A00358:305:HFVVKDSXY:1:1101:31123:1000 1:N:0:AATAATGG\n",
      "CNGGGTACACTTGTCCAACGGCCAATTTTTTTTTACAGTCATCTCTCTCTCAACATTCTCACTCGATGAAATACAAAGTATTCTCAAAGACATTCACTGAGTAGATGTCACTGTCACTCCACTGAAGGCAGAGCCAGTATTCGAACACTC\n",
      "+\n",
      "F#FFFFFFFFFFFFFFFFFFFFFFFFFF,,F,:,:,,:,,:,F:,F,,F:,,,,,,,:,,,,,,,,,,F,F,,,::,,,,,,,,,F,,,,,,,,,F,,,F,,,,,,,,,:,,,,,:,,,,,,,,:,,,,F,F,,,,,,,,,,,,F,,,,,\n",
      "@A00358:305:HFVVKDSXY:1:1101:32696:1000 1:N:0:AATAATGG\n",
      "ANGATCATCTTTGATCCAACGCTATACCTTTTTTAATGTTGACGAGTCTGTCTCTTGTGACTGCGTGTTGGTGTGTGTGTGTCTGATAGTGTGTGGGCCACTGTGGGTGTTGTTGTCTCTTGAGGGGGTACTTGGGTGTTGGGTGAGCGC\n",
      "+\n",
      "F#F:FFFFFFFFF,FFF:FFFFFFFFFFFF,,,F:,,F,,F,,,,,::,,,F,:,,,,,F,,,,,,,,,,,,,,,,,,,,,:,,,,,,,,,,,,,,,,,,,:,,,,,,,,:,,,,,,,,,,,,,,,,,,,,,,,,,,,,,,,,:,,,,,,\n",
      "@A00358:305:HFVVKDSXY:1:1101:6415:1016 1:N:0:AATAATGG\n",
      "GNATCTAAGACCATTCGATAATAAGCCCAACCTACCCGCGCTCACTCGCGAGACTAGTTACCTCGTTCTATGGGGTGAGTGTCTCTGTGTCTCTCTCTGTGAGTGTCTCTGTGTGTGTGCTTCTATGAGATGTGATTCGTCTCTCTAGTC\n",
      "+\n",
      "F#FFFFFFFFFF:FFFFFFFFFFFFFFF,,,F:,:F,F,,F,,,FF,,,,,,F,,,,,,,,,,,,,,,:,,,,,,,,,,,,,,,,,,,,,,,,,,,,,,,,,,,,,,,,,,,,,,,,,,,,,,,,,,,,,,,,,,,,,,,,,,,,,,,,,\n",
      "@A00358:305:HFVVKDSXY:1:1101:6777:1016 1:N:0:AATAATGG\n",
      "TNGGGCAGTCGTGGTCCCATCGCAATGATAACAATTAGAGCAGAACTCTAGGAGATAGCACAATCAGAAACTATGACAGCGAACAGCTCTGACGAGAGATGTCACAGTTCTACACAGAGAATAGTCAAGAGCTCTGTCAAATGGAACCTG\n",
      "+\n",
      "F#FFFFFFFFFFFFFFFFFFFFFFFFFF,F,:F:,F,,,,F,,F,::,,F,,,,F,F,,,,,,,,:,,F,,,,,,F,:,,,,:,F,,,,,,,,,:,F,,,,,,,,:,,,,,,,F,:,,,,,,,,,,FF,:,,,,,,,,:F,,,,:,,,,,\n",
      "@A00358:305:HFVVKDSXY:1:1101:8947:1016 1:N:0:AATAATGG\n",
      "ANTCGACCATGAGAATGAACGGATTGGTCCTCTCATATATCCTCTCTCTCTAGAAGCTATGACTAGTAGCTGAGTGAGACCGACTCTCAGTCCTAGTATCTTCAGTTCGCTATCTTGGCCACTGAGTGTCTCGGTATCGATGGCTCCTCT\n",
      "+\n",
      "F#FFFFFFFFFFFFFFFFFFFFFFFFFF::,,F,,FF,,F,,F:F,F,,F,:,,,,,,:,,,:,:,,F,,,,,,,,:,:,,,F,,,:,,,,,:,,,,:,,,,,F,,,,,,,F,,,,,,,,,,,,F,,,,,,,,,,:,,,,,,,,,,,,,,\n",
      "@A00358:305:HFVVKDSXY:1:1101:9055:1016 1:N:0:AATAATGG\n",
      "TNTACTGTCGTGCACGAATCTAGCTCTGTCTCTTACACTACTAGAGTCTTCATCACGAGTCTGTCAGATATTCTCTCTCTCAAGATCTCTGTCTTGAGTGCTATGATGAGTCTAGACGCTACTCTGTCTCACCATCTCGAATCTTAAAAT\n",
      "+\n",
      "F#FFFFFFFFFFFFFFFFF:FFFFFFFF,:F,FF,,,,,::F,:F,:,,,F,,,,:,,,,,,,,,,,F,,,,,,,,,,,,,::,,,,,,,,,,,,,F,,,,,,,,F,,F,,,:,,,,,,,F,,,,,,,,,,,,,,,,,,,,,,,,,,,,,\n",
      "@A00358:305:HFVVKDSXY:1:1101:9489:1016 1:N:0:AATAATGG\n",
      "CNCTCAGTCCGAGATTTGCACGTGGCCGCCGGGGGGGACATCAAGATAACATCTACTCAAAAAATAGATAAATCTCTATAATAGACTCACACTCATCTCAGCTCAGAGCAAGACAATATCACTATCCACACAGATACTTAAATCGAAATA\n",
      "+\n",
      "F#FFFFFF:FFFFFFFFFFFFFFFFFFF,,:,F,,F::,,FF,,,,,:,,,,F,F,,,,,,,::,:,F,,,,,:,,,,,,,,:,,,,,F,:,,,,,,,,,,,,,,,F,,,,,,,,,,,,,:,,:,,,,,:,,,F,,,,,,,,,,,,,F,,\n"
     ]
    }
   ],
   "source": [
    "import gzip\n",
    "\n",
    "# FASTQ文件路径\n",
    "fq_file_path = '/home/zengzw/gsa-human/HRA004556/HRR1197042/Case1-YF_S1_L001_R1_001.fastq.gz' # 或者.fq.gz如果文件是压缩的\n",
    "\n",
    "# 要读取的行数\n",
    "num_lines_to_read = 100\n",
    "\n",
    "# 读取文件\n",
    "with gzip.open(fq_file_path, 'rt') as file:\n",
    "    for _ in range(num_lines_to_read):\n",
    "        line = file.readline()\n",
    "        print(line.strip()) # strip()用于移除行尾的换行符\n"
   ]
  },
  {
   "cell_type": "code",
   "execution_count": 29,
   "id": "ed68395f",
   "metadata": {},
   "outputs": [
    {
     "data": {
      "text/plain": [
       "16"
      ]
     },
     "execution_count": 29,
     "metadata": {},
     "output_type": "execute_result"
    }
   ],
   "source": [
    "len(\"AGGGTGAGTTGCTCCT\")"
   ]
  },
  {
   "cell_type": "code",
   "execution_count": 44,
   "id": "266a7e12",
   "metadata": {},
   "outputs": [
    {
     "name": "stdout",
     "output_type": "stream",
     "text": [
      "@A00682:67:HFMNWDSXX:2:1101:27326:1000 1:N:0:GATCTCAG+TCTTTCCC\n",
      "NGACGTCAGCTGCGAACTTCGGTTTTTTTCTTATATGGGGCTTCTCGCTCGACACAGCCAGAGCTGGAGGTGGGTGCCCGGCACGGAGGGGCCTGCGGACCAATGGCTCTGCCCTGCACCTTAGGGCTCGGGATGCTGCTGGCCCTGCCA\n",
      "+\n",
      "#FFFFFFFFFFFFFFFFFFFFFFFFFFFFFFFFFFFFFFFFFFFFFFFFFFFFFFFFFFFFFFFFFFFFFFFFFFFFFFFFFFFFFFFFFFFFFFFFFFFFFFFFFFFFFFFFFFFFFFFFFFFFFFFFFFFFFFFFFFFFFFFFFFFFF\n",
      "@A00682:67:HFMNWDSXX:2:1101:26431:1016 1:N:0:GATCTCAG+TCTTTCCC\n",
      "TACCTTATCGACAGCCCTTCGATTCATTTCTTATATGGGGCAGTTCGGCGGTCCCGCGGGTCTGTCTCTTGCTTCAACAGTGTTTGGACGGAACAGATCCGGGGACTCTCTTCCAGCCTCCGACCGCCCTCCGATTTCCTCTCCGCTTGC\n",
      "+\n",
      "FFFFFFFFFFFFFFFFFFFFFFFFFFFFFFFFFFFFFFFFFFFFFFFFFFFFFFFFFFFFFFFFFFFFFFFFFFFFFFFFFFFFFFFFFFFFFFFFFFFFFFFFFFFFFFFFFFFFFFFFFFFFFFFFFFFFFFFFFFFFFFFFFFFFFF\n",
      "@A00682:67:HFMNWDSXX:2:1101:28113:1016 1:N:0:GATCTCAG+TCTTTCCC\n",
      "AGGTCCGGTCAATGTCACGTACCGAATTTTCTTATATGGGGGTTGATCCTGCCAGTAGCATATGCTTGTCTCAAAGATTAAGCCATGCATGTCTAAGTACGCACGGCCGGTACAGTGAAACTGCGAATGGCTCATTAAATCAGTTATGGT\n",
      "+\n",
      "FFFFFFFFFFFFFFFFFFFFFFFFFFFFFF:FFFFFFFFFFFFFFFFFFFFFFFFFFFFFFFFFFFFFFFFFFFFF:FFFFFFFFFFF:FFFFF:FF:FFFFFFFFFFFFFFFFFFFFFFFFFFFFFFFFFFFFFFFFFFFFFFFFFFFF\n",
      "@A00682:67:HFMNWDSXX:2:1101:7997:1031 1:N:0:GATCTCAG+TCTTTCCC\n",
      "CCTCAGTTTACTGCTAAATCCACCTTCGACCCTTAAGTTTCATAAGGGCTATCGTAGTTTTCTGGGGTAGAAAATGTAGCCCATTTCTTGCCACCTCATGGGCTACACCTTGACCTAACGTCTTTACGTGGGTACTTGCGCTTACTTTGT\n",
      "+\n",
      "FFFFFF:FFFFFFFFFFFFFFFFFFFFFFFFFFFFFFFFFFFFFFFFFFFFFFFFFFFFFFFFFFFFFFFFFFFFFFFFFFFFFFFFFFFFFFFFFFFFFFFFFFFFFFFFFFFFFFFFFFFFFFFFFFFFFFFFFFFFFFFF:FFFFFF\n",
      "@A00682:67:HFMNWDSXX:2:1101:9390:1031 1:N:0:GATCTCAG+TCTTTCCC\n",
      "TCAATCTGTTCAGGCCGGTAGTTTCTTTTCTTATATGGGGACAGGACACAGCTAGGTTCTGAAGCTTCTGAGTTCTGCAGCCTCACCTCTGAGAAAACCTCTTTGCCACCAATACCATGAAGCTCTGCGTGACTGTCCTGTCTCTCCTCG\n",
      "+\n",
      "FFFFFFFFFFFFFFFFFFFFFFFFFFFFFFFFFFFFFFFFFFFFFFFFFFFFFFFFFFFF:FFFFFFFFFFFFFFFFFFFFFFF:FF:FFFFFFFFFFFFFFFFFFFFFFFFFFFFFFFFFFFFFFFFFFFFFFFFFFF:FFFF:FFFFF\n"
     ]
    }
   ],
   "source": [
    "import gzip\n",
    "\n",
    "# FASTQ文件路径\n",
    "fq_file_path = '/data200T/GSA_human/HRA002184/HRR649360/HRR649360_f1.fastq.gz' # 或者.fq.gz如果文件是压缩的\n",
    "\n",
    "# 要读取的行数\n",
    "num_lines_to_read = 20\n",
    "\n",
    "# 读取文件\n",
    "with gzip.open(fq_file_path, 'rt') as file:\n",
    "    for _ in range(num_lines_to_read):\n",
    "        line = file.readline()\n",
    "        print(line.strip()) # strip()用于移除行尾的换行符\n"
   ]
  },
  {
   "cell_type": "code",
   "execution_count": 82,
   "id": "b12d2247",
   "metadata": {
    "scrolled": true
   },
   "outputs": [],
   "source": [
    "from typing import List\n",
    "\n",
    "def FindBarcode(barcode_to_search:List[str]):\n",
    "    # This will be set to True if the barcode is found, False otherwise\n",
    "    barcode_found = False\n",
    "    \n",
    "    print(\"Barcodes' length:\",[len(i) for i in barcode_to_search])        \n",
    "\n",
    "    # Open the file and read line by line\n",
    "    with open(\"/home/apps/cellranger/cellranger-7.0.0/lib/python/cellranger/barcodes/737K-august-2016.txt\", \"r\") as file:\n",
    "        for line in file:\n",
    "            # Remove any trailing newlines or spaces\n",
    "            current_barcode = line.strip()\n",
    "            # Check if the current barcode matches the one we're looking for\n",
    "            for i in range(len(barcode_to_search)):\n",
    "                if current_barcode == barcode_to_search[i]:\n",
    "                    barcode_found = True\n",
    "                    #print(line, current_barcode)\n",
    "                    break  # Exit the loop since we found the barcode\n",
    "\n",
    "    if barcode_found:\n",
    "        print('Barcode Found!')\n",
    "    else:\n",
    "        print('NOT Found...')"
   ]
  },
  {
   "cell_type": "code",
   "execution_count": 83,
   "id": "c873c630",
   "metadata": {},
   "outputs": [
    {
     "data": {
      "text/plain": [
       "16"
      ]
     },
     "execution_count": 83,
     "metadata": {},
     "output_type": "execute_result"
    }
   ],
   "source": [
    "len(\"AGGTCCGGTCAATGTC\")"
   ]
  },
  {
   "cell_type": "code",
   "execution_count": 84,
   "id": "61a08efd",
   "metadata": {},
   "outputs": [
    {
     "name": "stdout",
     "output_type": "stream",
     "text": [
      "Barcodes' length: [16]\n",
      "Barcode Found!\n"
     ]
    }
   ],
   "source": [
    "FindBarcode(barcode_to_search=[\"AGGTCCGGTCAATGTC\"])"
   ]
  },
  {
   "cell_type": "code",
   "execution_count": 8,
   "id": "a2fb24d0",
   "metadata": {},
   "outputs": [
    {
     "data": {
      "text/plain": [
       "(11, 2)"
      ]
     },
     "execution_count": 8,
     "metadata": {},
     "output_type": "execute_result"
    }
   ],
   "source": [
    "csv_data.shape"
   ]
  },
  {
   "cell_type": "code",
   "execution_count": null,
   "id": "82bad3b8",
   "metadata": {},
   "outputs": [],
   "source": []
  }
 ],
 "metadata": {
  "kernelspec": {
   "display_name": "scrna",
   "language": "python",
   "name": "scrna"
  },
  "language_info": {
   "codemirror_mode": {
    "name": "ipython",
    "version": 3
   },
   "file_extension": ".py",
   "mimetype": "text/x-python",
   "name": "python",
   "nbconvert_exporter": "python",
   "pygments_lexer": "ipython3",
   "version": "3.8.18"
  }
 },
 "nbformat": 4,
 "nbformat_minor": 5
}
